{
  "nbformat": 4,
  "nbformat_minor": 0,
  "metadata": {
    "colab": {
      "provenance": [],
      "include_colab_link": true
    },
    "kernelspec": {
      "name": "python3",
      "display_name": "Python 3"
    },
    "language_info": {
      "name": "python"
    }
  },
  "cells": [
    {
      "cell_type": "markdown",
      "metadata": {
        "id": "view-in-github",
        "colab_type": "text"
      },
      "source": [
        "<a href=\"https://colab.research.google.com/github/sheddie00/learn-git/blob/main/Unsupervised_Learning_checkP.ipynb\" target=\"_parent\"><img src=\"https://colab.research.google.com/assets/colab-badge.svg\" alt=\"Open In Colab\"/></a>"
      ]
    },
    {
      "cell_type": "markdown",
      "source": [
        "Import of neccessary libraries"
      ],
      "metadata": {
        "id": "1yXLvjj93fgL"
      }
    },
    {
      "cell_type": "code",
      "source": [
        "!pip install scikit-learn"
      ],
      "metadata": {
        "colab": {
          "base_uri": "https://localhost:8080/"
        },
        "id": "KiWO_8P32iZc",
        "outputId": "9b44e3b9-8b18-4ebc-a734-5349bab91b13"
      },
      "execution_count": null,
      "outputs": [
        {
          "output_type": "stream",
          "name": "stdout",
          "text": [
            "Requirement already satisfied: scikit-learn in /usr/local/lib/python3.11/dist-packages (1.6.1)\n",
            "Requirement already satisfied: numpy>=1.19.5 in /usr/local/lib/python3.11/dist-packages (from scikit-learn) (2.0.2)\n",
            "Requirement already satisfied: scipy>=1.6.0 in /usr/local/lib/python3.11/dist-packages (from scikit-learn) (1.16.0)\n",
            "Requirement already satisfied: joblib>=1.2.0 in /usr/local/lib/python3.11/dist-packages (from scikit-learn) (1.5.1)\n",
            "Requirement already satisfied: threadpoolctl>=3.1.0 in /usr/local/lib/python3.11/dist-packages (from scikit-learn) (3.6.0)\n"
          ]
        }
      ]
    },
    {
      "cell_type": "code",
      "source": [
        "# Import neccesary libraies\n",
        "import pandas as pd\n",
        "import numpy as np\n",
        "import matplotlib.pyplot as plt\n",
        "from sklearn.cluster import KMeans\n",
        "from sklearn.preprocessing import StandardScaler\n",
        "from sklearn.metrics import silhouette_score\n",
        "from sklearn.decomposition import PCA\n",
        "from scipy .cluster.hierarchy import dendrogram, linkage\n",
        "from sklearn.cluster import AgglomerativeClustering\n"
      ],
      "metadata": {
        "id": "1z5EeUJj1m1h"
      },
      "execution_count": null,
      "outputs": []
    },
    {
      "cell_type": "code",
      "source": [
        "# Load data\n",
        "credit_card_csv= '/content/drive/MyDrive/Credit_card_dataset.csv'\n",
        "df= pd.read_csv(credit_card_csv)\n",
        "print(df)\n"
      ],
      "metadata": {
        "colab": {
          "base_uri": "https://localhost:8080/"
        },
        "id": "l4smOMLjn88-",
        "outputId": "7f599679-3bcf-4b70-b2d6-1e905a999fb2"
      },
      "execution_count": null,
      "outputs": [
        {
          "output_type": "stream",
          "name": "stdout",
          "text": [
            "     CUST_ID  BALANCE_FREQUENCY  PURCHASES     PAYMENTS  CREDIT_LIMIT  \\\n",
            "0     C10001           0.818182      95.40   201.802084        1000.0   \n",
            "1     C10002           0.909091       0.00  4103.032597        7000.0   \n",
            "2     C10003           1.000000     773.17   622.066742        7500.0   \n",
            "3     C10004           0.636364    1499.00     0.000000        7500.0   \n",
            "4     C10005           1.000000      16.00   678.334763        1200.0   \n",
            "...      ...                ...        ...          ...           ...   \n",
            "8945  C19186           1.000000     291.12   325.594462        1000.0   \n",
            "8946  C19187           1.000000     300.00   275.861322        1000.0   \n",
            "8947  C19188           0.833333     144.40    81.270775        1000.0   \n",
            "8948  C19189           0.833333       0.00    52.549959         500.0   \n",
            "8949  C19190           0.666667    1093.25    63.165404        1200.0   \n",
            "\n",
            "      CASH_ADVANCE  \n",
            "0         0.000000  \n",
            "1      6442.945483  \n",
            "2         0.000000  \n",
            "3       205.788017  \n",
            "4         0.000000  \n",
            "...            ...  \n",
            "8945      0.000000  \n",
            "8946      0.000000  \n",
            "8947      0.000000  \n",
            "8948     36.558778  \n",
            "8949    127.040008  \n",
            "\n",
            "[8950 rows x 6 columns]\n"
          ]
        }
      ]
    },
    {
      "cell_type": "markdown",
      "source": [
        "Basic data cleaning/Preprocessing"
      ],
      "metadata": {
        "id": "vhV4SAtf3UZm"
      }
    },
    {
      "cell_type": "code",
      "metadata": {
        "colab": {
          "base_uri": "https://localhost:8080/",
          "height": 497
        },
        "id": "44e2d4ef",
        "outputId": "efc1452c-c50c-4252-f49a-1e77e0911ea0"
      },
      "source": [
        "# Understanding the credit card dataset\n",
        "df.info()\n",
        "df.isnull().sum()\n"
      ],
      "execution_count": null,
      "outputs": [
        {
          "output_type": "stream",
          "name": "stdout",
          "text": [
            "<class 'pandas.core.frame.DataFrame'>\n",
            "RangeIndex: 8950 entries, 0 to 8949\n",
            "Data columns (total 6 columns):\n",
            " #   Column             Non-Null Count  Dtype  \n",
            "---  ------             --------------  -----  \n",
            " 0   CUST_ID            8950 non-null   object \n",
            " 1   BALANCE_FREQUENCY  8950 non-null   float64\n",
            " 2   PURCHASES          8950 non-null   float64\n",
            " 3   PAYMENTS           8950 non-null   float64\n",
            " 4   CREDIT_LIMIT       8949 non-null   float64\n",
            " 5   CASH_ADVANCE       8950 non-null   float64\n",
            "dtypes: float64(5), object(1)\n",
            "memory usage: 419.7+ KB\n"
          ]
        },
        {
          "output_type": "execute_result",
          "data": {
            "text/plain": [
              "CUST_ID              0\n",
              "BALANCE_FREQUENCY    0\n",
              "PURCHASES            0\n",
              "PAYMENTS             0\n",
              "CREDIT_LIMIT         1\n",
              "CASH_ADVANCE         0\n",
              "dtype: int64"
            ],
            "text/html": [
              "<div>\n",
              "<style scoped>\n",
              "    .dataframe tbody tr th:only-of-type {\n",
              "        vertical-align: middle;\n",
              "    }\n",
              "\n",
              "    .dataframe tbody tr th {\n",
              "        vertical-align: top;\n",
              "    }\n",
              "\n",
              "    .dataframe thead th {\n",
              "        text-align: right;\n",
              "    }\n",
              "</style>\n",
              "<table border=\"1\" class=\"dataframe\">\n",
              "  <thead>\n",
              "    <tr style=\"text-align: right;\">\n",
              "      <th></th>\n",
              "      <th>0</th>\n",
              "    </tr>\n",
              "  </thead>\n",
              "  <tbody>\n",
              "    <tr>\n",
              "      <th>CUST_ID</th>\n",
              "      <td>0</td>\n",
              "    </tr>\n",
              "    <tr>\n",
              "      <th>BALANCE_FREQUENCY</th>\n",
              "      <td>0</td>\n",
              "    </tr>\n",
              "    <tr>\n",
              "      <th>PURCHASES</th>\n",
              "      <td>0</td>\n",
              "    </tr>\n",
              "    <tr>\n",
              "      <th>PAYMENTS</th>\n",
              "      <td>0</td>\n",
              "    </tr>\n",
              "    <tr>\n",
              "      <th>CREDIT_LIMIT</th>\n",
              "      <td>1</td>\n",
              "    </tr>\n",
              "    <tr>\n",
              "      <th>CASH_ADVANCE</th>\n",
              "      <td>0</td>\n",
              "    </tr>\n",
              "  </tbody>\n",
              "</table>\n",
              "</div><br><label><b>dtype:</b> int64</label>"
            ]
          },
          "metadata": {},
          "execution_count": 13
        }
      ]
    },
    {
      "cell_type": "code",
      "source": [
        "df.describe()"
      ],
      "metadata": {
        "colab": {
          "base_uri": "https://localhost:8080/",
          "height": 300
        },
        "id": "gzbWvwvI4lO6",
        "outputId": "1ded18c2-5b81-412f-e860-22930b64baf8"
      },
      "execution_count": null,
      "outputs": [
        {
          "output_type": "execute_result",
          "data": {
            "text/plain": [
              "       BALANCE_FREQUENCY     PURCHASES      PAYMENTS  CREDIT_LIMIT  \\\n",
              "count        8950.000000   8950.000000   8950.000000   8949.000000   \n",
              "mean            0.877271   1003.204834   1733.143852   4494.449450   \n",
              "std             0.236904   2136.634782   2895.063757   3638.815725   \n",
              "min             0.000000      0.000000      0.000000     50.000000   \n",
              "25%             0.888889     39.635000    383.276166   1600.000000   \n",
              "50%             1.000000    361.280000    856.901546   3000.000000   \n",
              "75%             1.000000   1110.130000   1901.134317   6500.000000   \n",
              "max             1.000000  49039.570000  50721.483360  30000.000000   \n",
              "\n",
              "       CASH_ADVANCE  \n",
              "count   8950.000000  \n",
              "mean     978.871112  \n",
              "std     2097.163877  \n",
              "min        0.000000  \n",
              "25%        0.000000  \n",
              "50%        0.000000  \n",
              "75%     1113.821139  \n",
              "max    47137.211760  "
            ],
            "text/html": [
              "\n",
              "  <div id=\"df-8915ae6d-4be6-46c1-886b-4922e986ab16\" class=\"colab-df-container\">\n",
              "    <div>\n",
              "<style scoped>\n",
              "    .dataframe tbody tr th:only-of-type {\n",
              "        vertical-align: middle;\n",
              "    }\n",
              "\n",
              "    .dataframe tbody tr th {\n",
              "        vertical-align: top;\n",
              "    }\n",
              "\n",
              "    .dataframe thead th {\n",
              "        text-align: right;\n",
              "    }\n",
              "</style>\n",
              "<table border=\"1\" class=\"dataframe\">\n",
              "  <thead>\n",
              "    <tr style=\"text-align: right;\">\n",
              "      <th></th>\n",
              "      <th>BALANCE_FREQUENCY</th>\n",
              "      <th>PURCHASES</th>\n",
              "      <th>PAYMENTS</th>\n",
              "      <th>CREDIT_LIMIT</th>\n",
              "      <th>CASH_ADVANCE</th>\n",
              "    </tr>\n",
              "  </thead>\n",
              "  <tbody>\n",
              "    <tr>\n",
              "      <th>count</th>\n",
              "      <td>8950.000000</td>\n",
              "      <td>8950.000000</td>\n",
              "      <td>8950.000000</td>\n",
              "      <td>8949.000000</td>\n",
              "      <td>8950.000000</td>\n",
              "    </tr>\n",
              "    <tr>\n",
              "      <th>mean</th>\n",
              "      <td>0.877271</td>\n",
              "      <td>1003.204834</td>\n",
              "      <td>1733.143852</td>\n",
              "      <td>4494.449450</td>\n",
              "      <td>978.871112</td>\n",
              "    </tr>\n",
              "    <tr>\n",
              "      <th>std</th>\n",
              "      <td>0.236904</td>\n",
              "      <td>2136.634782</td>\n",
              "      <td>2895.063757</td>\n",
              "      <td>3638.815725</td>\n",
              "      <td>2097.163877</td>\n",
              "    </tr>\n",
              "    <tr>\n",
              "      <th>min</th>\n",
              "      <td>0.000000</td>\n",
              "      <td>0.000000</td>\n",
              "      <td>0.000000</td>\n",
              "      <td>50.000000</td>\n",
              "      <td>0.000000</td>\n",
              "    </tr>\n",
              "    <tr>\n",
              "      <th>25%</th>\n",
              "      <td>0.888889</td>\n",
              "      <td>39.635000</td>\n",
              "      <td>383.276166</td>\n",
              "      <td>1600.000000</td>\n",
              "      <td>0.000000</td>\n",
              "    </tr>\n",
              "    <tr>\n",
              "      <th>50%</th>\n",
              "      <td>1.000000</td>\n",
              "      <td>361.280000</td>\n",
              "      <td>856.901546</td>\n",
              "      <td>3000.000000</td>\n",
              "      <td>0.000000</td>\n",
              "    </tr>\n",
              "    <tr>\n",
              "      <th>75%</th>\n",
              "      <td>1.000000</td>\n",
              "      <td>1110.130000</td>\n",
              "      <td>1901.134317</td>\n",
              "      <td>6500.000000</td>\n",
              "      <td>1113.821139</td>\n",
              "    </tr>\n",
              "    <tr>\n",
              "      <th>max</th>\n",
              "      <td>1.000000</td>\n",
              "      <td>49039.570000</td>\n",
              "      <td>50721.483360</td>\n",
              "      <td>30000.000000</td>\n",
              "      <td>47137.211760</td>\n",
              "    </tr>\n",
              "  </tbody>\n",
              "</table>\n",
              "</div>\n",
              "    <div class=\"colab-df-buttons\">\n",
              "\n",
              "  <div class=\"colab-df-container\">\n",
              "    <button class=\"colab-df-convert\" onclick=\"convertToInteractive('df-8915ae6d-4be6-46c1-886b-4922e986ab16')\"\n",
              "            title=\"Convert this dataframe to an interactive table.\"\n",
              "            style=\"display:none;\">\n",
              "\n",
              "  <svg xmlns=\"http://www.w3.org/2000/svg\" height=\"24px\" viewBox=\"0 -960 960 960\">\n",
              "    <path d=\"M120-120v-720h720v720H120Zm60-500h600v-160H180v160Zm220 220h160v-160H400v160Zm0 220h160v-160H400v160ZM180-400h160v-160H180v160Zm440 0h160v-160H620v160ZM180-180h160v-160H180v160Zm440 0h160v-160H620v160Z\"/>\n",
              "  </svg>\n",
              "    </button>\n",
              "\n",
              "  <style>\n",
              "    .colab-df-container {\n",
              "      display:flex;\n",
              "      gap: 12px;\n",
              "    }\n",
              "\n",
              "    .colab-df-convert {\n",
              "      background-color: #E8F0FE;\n",
              "      border: none;\n",
              "      border-radius: 50%;\n",
              "      cursor: pointer;\n",
              "      display: none;\n",
              "      fill: #1967D2;\n",
              "      height: 32px;\n",
              "      padding: 0 0 0 0;\n",
              "      width: 32px;\n",
              "    }\n",
              "\n",
              "    .colab-df-convert:hover {\n",
              "      background-color: #E2EBFA;\n",
              "      box-shadow: 0px 1px 2px rgba(60, 64, 67, 0.3), 0px 1px 3px 1px rgba(60, 64, 67, 0.15);\n",
              "      fill: #174EA6;\n",
              "    }\n",
              "\n",
              "    .colab-df-buttons div {\n",
              "      margin-bottom: 4px;\n",
              "    }\n",
              "\n",
              "    [theme=dark] .colab-df-convert {\n",
              "      background-color: #3B4455;\n",
              "      fill: #D2E3FC;\n",
              "    }\n",
              "\n",
              "    [theme=dark] .colab-df-convert:hover {\n",
              "      background-color: #434B5C;\n",
              "      box-shadow: 0px 1px 3px 1px rgba(0, 0, 0, 0.15);\n",
              "      filter: drop-shadow(0px 1px 2px rgba(0, 0, 0, 0.3));\n",
              "      fill: #FFFFFF;\n",
              "    }\n",
              "  </style>\n",
              "\n",
              "    <script>\n",
              "      const buttonEl =\n",
              "        document.querySelector('#df-8915ae6d-4be6-46c1-886b-4922e986ab16 button.colab-df-convert');\n",
              "      buttonEl.style.display =\n",
              "        google.colab.kernel.accessAllowed ? 'block' : 'none';\n",
              "\n",
              "      async function convertToInteractive(key) {\n",
              "        const element = document.querySelector('#df-8915ae6d-4be6-46c1-886b-4922e986ab16');\n",
              "        const dataTable =\n",
              "          await google.colab.kernel.invokeFunction('convertToInteractive',\n",
              "                                                    [key], {});\n",
              "        if (!dataTable) return;\n",
              "\n",
              "        const docLinkHtml = 'Like what you see? Visit the ' +\n",
              "          '<a target=\"_blank\" href=https://colab.research.google.com/notebooks/data_table.ipynb>data table notebook</a>'\n",
              "          + ' to learn more about interactive tables.';\n",
              "        element.innerHTML = '';\n",
              "        dataTable['output_type'] = 'display_data';\n",
              "        await google.colab.output.renderOutput(dataTable, element);\n",
              "        const docLink = document.createElement('div');\n",
              "        docLink.innerHTML = docLinkHtml;\n",
              "        element.appendChild(docLink);\n",
              "      }\n",
              "    </script>\n",
              "  </div>\n",
              "\n",
              "\n",
              "    <div id=\"df-b38b2976-a74b-42e8-8e2e-423f215f0170\">\n",
              "      <button class=\"colab-df-quickchart\" onclick=\"quickchart('df-b38b2976-a74b-42e8-8e2e-423f215f0170')\"\n",
              "                title=\"Suggest charts\"\n",
              "                style=\"display:none;\">\n",
              "\n",
              "<svg xmlns=\"http://www.w3.org/2000/svg\" height=\"24px\"viewBox=\"0 0 24 24\"\n",
              "     width=\"24px\">\n",
              "    <g>\n",
              "        <path d=\"M19 3H5c-1.1 0-2 .9-2 2v14c0 1.1.9 2 2 2h14c1.1 0 2-.9 2-2V5c0-1.1-.9-2-2-2zM9 17H7v-7h2v7zm4 0h-2V7h2v10zm4 0h-2v-4h2v4z\"/>\n",
              "    </g>\n",
              "</svg>\n",
              "      </button>\n",
              "\n",
              "<style>\n",
              "  .colab-df-quickchart {\n",
              "      --bg-color: #E8F0FE;\n",
              "      --fill-color: #1967D2;\n",
              "      --hover-bg-color: #E2EBFA;\n",
              "      --hover-fill-color: #174EA6;\n",
              "      --disabled-fill-color: #AAA;\n",
              "      --disabled-bg-color: #DDD;\n",
              "  }\n",
              "\n",
              "  [theme=dark] .colab-df-quickchart {\n",
              "      --bg-color: #3B4455;\n",
              "      --fill-color: #D2E3FC;\n",
              "      --hover-bg-color: #434B5C;\n",
              "      --hover-fill-color: #FFFFFF;\n",
              "      --disabled-bg-color: #3B4455;\n",
              "      --disabled-fill-color: #666;\n",
              "  }\n",
              "\n",
              "  .colab-df-quickchart {\n",
              "    background-color: var(--bg-color);\n",
              "    border: none;\n",
              "    border-radius: 50%;\n",
              "    cursor: pointer;\n",
              "    display: none;\n",
              "    fill: var(--fill-color);\n",
              "    height: 32px;\n",
              "    padding: 0;\n",
              "    width: 32px;\n",
              "  }\n",
              "\n",
              "  .colab-df-quickchart:hover {\n",
              "    background-color: var(--hover-bg-color);\n",
              "    box-shadow: 0 1px 2px rgba(60, 64, 67, 0.3), 0 1px 3px 1px rgba(60, 64, 67, 0.15);\n",
              "    fill: var(--button-hover-fill-color);\n",
              "  }\n",
              "\n",
              "  .colab-df-quickchart-complete:disabled,\n",
              "  .colab-df-quickchart-complete:disabled:hover {\n",
              "    background-color: var(--disabled-bg-color);\n",
              "    fill: var(--disabled-fill-color);\n",
              "    box-shadow: none;\n",
              "  }\n",
              "\n",
              "  .colab-df-spinner {\n",
              "    border: 2px solid var(--fill-color);\n",
              "    border-color: transparent;\n",
              "    border-bottom-color: var(--fill-color);\n",
              "    animation:\n",
              "      spin 1s steps(1) infinite;\n",
              "  }\n",
              "\n",
              "  @keyframes spin {\n",
              "    0% {\n",
              "      border-color: transparent;\n",
              "      border-bottom-color: var(--fill-color);\n",
              "      border-left-color: var(--fill-color);\n",
              "    }\n",
              "    20% {\n",
              "      border-color: transparent;\n",
              "      border-left-color: var(--fill-color);\n",
              "      border-top-color: var(--fill-color);\n",
              "    }\n",
              "    30% {\n",
              "      border-color: transparent;\n",
              "      border-left-color: var(--fill-color);\n",
              "      border-top-color: var(--fill-color);\n",
              "      border-right-color: var(--fill-color);\n",
              "    }\n",
              "    40% {\n",
              "      border-color: transparent;\n",
              "      border-right-color: var(--fill-color);\n",
              "      border-top-color: var(--fill-color);\n",
              "    }\n",
              "    60% {\n",
              "      border-color: transparent;\n",
              "      border-right-color: var(--fill-color);\n",
              "    }\n",
              "    80% {\n",
              "      border-color: transparent;\n",
              "      border-right-color: var(--fill-color);\n",
              "      border-bottom-color: var(--fill-color);\n",
              "    }\n",
              "    90% {\n",
              "      border-color: transparent;\n",
              "      border-bottom-color: var(--fill-color);\n",
              "    }\n",
              "  }\n",
              "</style>\n",
              "\n",
              "      <script>\n",
              "        async function quickchart(key) {\n",
              "          const quickchartButtonEl =\n",
              "            document.querySelector('#' + key + ' button');\n",
              "          quickchartButtonEl.disabled = true;  // To prevent multiple clicks.\n",
              "          quickchartButtonEl.classList.add('colab-df-spinner');\n",
              "          try {\n",
              "            const charts = await google.colab.kernel.invokeFunction(\n",
              "                'suggestCharts', [key], {});\n",
              "          } catch (error) {\n",
              "            console.error('Error during call to suggestCharts:', error);\n",
              "          }\n",
              "          quickchartButtonEl.classList.remove('colab-df-spinner');\n",
              "          quickchartButtonEl.classList.add('colab-df-quickchart-complete');\n",
              "        }\n",
              "        (() => {\n",
              "          let quickchartButtonEl =\n",
              "            document.querySelector('#df-b38b2976-a74b-42e8-8e2e-423f215f0170 button');\n",
              "          quickchartButtonEl.style.display =\n",
              "            google.colab.kernel.accessAllowed ? 'block' : 'none';\n",
              "        })();\n",
              "      </script>\n",
              "    </div>\n",
              "\n",
              "    </div>\n",
              "  </div>\n"
            ],
            "application/vnd.google.colaboratory.intrinsic+json": {
              "type": "dataframe",
              "summary": "{\n  \"name\": \"df\",\n  \"rows\": 8,\n  \"fields\": [\n    {\n      \"column\": \"BALANCE_FREQUENCY\",\n      \"properties\": {\n        \"dtype\": \"number\",\n        \"std\": 3164.0501764110654,\n        \"min\": 0.0,\n        \"max\": 8950.0,\n        \"num_unique_values\": 6,\n        \"samples\": [\n          8950.0,\n          0.8772707255865921,\n          1.0\n        ],\n        \"semantic_type\": \"\",\n        \"description\": \"\"\n      }\n    },\n    {\n      \"column\": \"PURCHASES\",\n      \"properties\": {\n        \"dtype\": \"number\",\n        \"std\": 16909.167916503804,\n        \"min\": 0.0,\n        \"max\": 49039.57,\n        \"num_unique_values\": 8,\n        \"samples\": [\n          1003.2048335195531,\n          361.28,\n          8950.0\n        ],\n        \"semantic_type\": \"\",\n        \"description\": \"\"\n      }\n    },\n    {\n      \"column\": \"PAYMENTS\",\n      \"properties\": {\n        \"dtype\": \"number\",\n        \"std\": 17320.986188971423,\n        \"min\": 0.0,\n        \"max\": 50721.48336,\n        \"num_unique_values\": 8,\n        \"samples\": [\n          1733.1438520248046,\n          856.901546,\n          8950.0\n        ],\n        \"semantic_type\": \"\",\n        \"description\": \"\"\n      }\n    },\n    {\n      \"column\": \"CREDIT_LIMIT\",\n      \"properties\": {\n        \"dtype\": \"number\",\n        \"std\": 9587.667437964345,\n        \"min\": 50.0,\n        \"max\": 30000.0,\n        \"num_unique_values\": 8,\n        \"samples\": [\n          4494.449450364621,\n          3000.0,\n          8949.0\n        ],\n        \"semantic_type\": \"\",\n        \"description\": \"\"\n      }\n    },\n    {\n      \"column\": \"CASH_ADVANCE\",\n      \"properties\": {\n        \"dtype\": \"number\",\n        \"std\": 16276.409312979034,\n        \"min\": 0.0,\n        \"max\": 47137.21176,\n        \"num_unique_values\": 6,\n        \"samples\": [\n          8950.0,\n          978.8711124654749,\n          47137.21176\n        ],\n        \"semantic_type\": \"\",\n        \"description\": \"\"\n      }\n    }\n  ]\n}"
            }
          },
          "metadata": {},
          "execution_count": 14
        }
      ]
    },
    {
      "cell_type": "code",
      "source": [
        "# Drop rows with missing CREDIT_LIMIT\n",
        "df_cleaned = df.dropna(subset=[\"CREDIT_LIMIT\"]) # Removes the row with 1 missing value\n",
        "\n",
        "# Drop CUST_ID as it's not useful for modeling\n",
        "df_cleaned = df_cleaned.drop(columns=[\"CUST_ID\"])\n"
      ],
      "metadata": {
        "id": "xqVPUkNF6COx"
      },
      "execution_count": null,
      "outputs": []
    },
    {
      "cell_type": "code",
      "source": [
        "# check the cleaned data\n",
        "print(df_cleaned.info())\n",
        "print(df_cleaned.head())"
      ],
      "metadata": {
        "colab": {
          "base_uri": "https://localhost:8080/"
        },
        "id": "guv03eKG6kL-",
        "outputId": "fa1b0d6a-c7f9-4a99-eecd-140c106e0aab"
      },
      "execution_count": null,
      "outputs": [
        {
          "output_type": "stream",
          "name": "stdout",
          "text": [
            "<class 'pandas.core.frame.DataFrame'>\n",
            "Index: 8949 entries, 0 to 8949\n",
            "Data columns (total 5 columns):\n",
            " #   Column             Non-Null Count  Dtype  \n",
            "---  ------             --------------  -----  \n",
            " 0   BALANCE_FREQUENCY  8949 non-null   float64\n",
            " 1   PURCHASES          8949 non-null   float64\n",
            " 2   PAYMENTS           8949 non-null   float64\n",
            " 3   CREDIT_LIMIT       8949 non-null   float64\n",
            " 4   CASH_ADVANCE       8949 non-null   float64\n",
            "dtypes: float64(5)\n",
            "memory usage: 419.5 KB\n",
            "None\n",
            "   BALANCE_FREQUENCY  PURCHASES     PAYMENTS  CREDIT_LIMIT  CASH_ADVANCE\n",
            "0           0.818182      95.40   201.802084        1000.0      0.000000\n",
            "1           0.909091       0.00  4103.032597        7000.0   6442.945483\n",
            "2           1.000000     773.17   622.066742        7500.0      0.000000\n",
            "3           0.636364    1499.00     0.000000        7500.0    205.788017\n",
            "4           1.000000      16.00   678.334763        1200.0      0.000000\n"
          ]
        }
      ]
    },
    {
      "cell_type": "code",
      "source": [
        "# In this case, no encoding is needed — and here’s why:\n",
        "# 1. You now have these 5 features, all numerical\n",
        "\n",
        "# There are no categorical variables, so:\n",
        "# 1.Label encoding (for converting category labels to numbers) → not needed\n",
        "# 2. One-hot encoding (for binary flags or categories) → not needed\n",
        "\n"
      ],
      "metadata": {
        "id": "ApYeGHEL7I-o"
      },
      "execution_count": null,
      "outputs": []
    },
    {
      "cell_type": "markdown",
      "source": [
        "Before performing hierarchical clustering, scaled the data."
      ],
      "metadata": {
        "id": "RH4etgxx8ymU"
      }
    },
    {
      "cell_type": "code",
      "source": [
        "# Initialize the scaler\n",
        "scaler = StandardScaler()\n",
        "\n",
        "# Fit and transform the cleaned data\n",
        "scaled_data = scaler.fit_transform(df_cleaned)\n",
        "\n",
        "# Convert back to DataFrame\n",
        "df_scaled = pd.DataFrame(scaled_data, columns=df_cleaned.columns)\n",
        "\n",
        "# Display the first few rows\n",
        "print(df_scaled.head())"
      ],
      "metadata": {
        "colab": {
          "base_uri": "https://localhost:8080/"
        },
        "id": "5HcLA38U8nNb",
        "outputId": "6500a8f8-2898-462e-99e2-ad1e3a606034"
      },
      "execution_count": null,
      "outputs": [
        {
          "output_type": "stream",
          "name": "stdout",
          "text": [
            "   BALANCE_FREQUENCY  PURCHASES  PAYMENTS  CREDIT_LIMIT  CASH_ADVANCE\n",
            "0          -0.249881  -0.424934 -0.529026     -0.960380     -0.466805\n",
            "1           0.134049  -0.469584  0.818546      0.688601      2.605438\n",
            "2           0.517980  -0.107716 -0.383857      0.826016     -0.466805\n",
            "3          -1.017743   0.231995 -0.598733      0.826016     -0.368678\n",
            "4           0.517980  -0.462095 -0.364421     -0.905414     -0.466805\n"
          ]
        }
      ]
    },
    {
      "cell_type": "markdown",
      "source": [
        "Hierarchical clustering"
      ],
      "metadata": {
        "id": "JWX-XG0t9IPq"
      }
    },
    {
      "cell_type": "code",
      "source": [
        "# Hierarchical clustering\n",
        "import scipy.cluster.hierarchy as sch\n",
        "linkage_matrix = sch.linkage(scaled_data, method='ward')"
      ],
      "metadata": {
        "id": "hNq4lz7C9KOy"
      },
      "execution_count": null,
      "outputs": []
    },
    {
      "cell_type": "code",
      "source": [
        "# Use only two features for clustering\n",
        "features_2d = df_cleaned[['PURCHASES', 'CREDIT_LIMIT']]\n",
        "\n",
        "# Scale the data\n",
        "scaler = StandardScaler()\n",
        "scaled_features = scaler.fit_transform(features_2d)\n",
        "\n",
        "# Apply K-means clustering\n",
        "kmeans = KMeans(n_clusters=2, random_state=42)\n",
        "labels = kmeans.fit_predict(scaled_features)\n",
        "\n",
        "# Add cluster labels to the DataFrame\n",
        "features_2d['KMeans_Cluster'] = labels\n",
        "\n",
        "# Plot the clusters\n",
        "plt.figure(figsize=(8, 6))\n",
        "for label in features_2d['KMeans_Cluster'].unique():\n",
        "    cluster_data = features_2d[features_2d['KMeans_Cluster'] == label]\n",
        "    plt.scatter(cluster_data['PURCHASES'], cluster_data['CREDIT_LIMIT'], label=f'Cluster {label}')\n",
        "\n",
        "# Plot the centroids\n",
        "centroids = scaler.inverse_transform(kmeans.cluster_centers_)\n",
        "plt.scatter(centroids[:, 0], centroids[:, 1], c='black', marker='X', s=200, label='Centroids')\n",
        "\n",
        "plt.xlabel('PURCHASES')\n",
        "plt.ylabel('CREDIT_LIMIT')\n",
        "plt.title('Customer Segments (K-Means Clustering)')\n",
        "plt.legend()\n",
        "plt.grid(True)\n",
        "plt.tight_layout()\n",
        "plt.show()\n"
      ],
      "metadata": {
        "colab": {
          "base_uri": "https://localhost:8080/",
          "height": 711
        },
        "id": "T1Wl9JApJbYz",
        "outputId": "13548f4a-09b9-43b4-9c75-ef4f825dc132"
      },
      "execution_count": null,
      "outputs": [
        {
          "output_type": "stream",
          "name": "stderr",
          "text": [
            "/tmp/ipython-input-1391800452.py:13: SettingWithCopyWarning: \n",
            "A value is trying to be set on a copy of a slice from a DataFrame.\n",
            "Try using .loc[row_indexer,col_indexer] = value instead\n",
            "\n",
            "See the caveats in the documentation: https://pandas.pydata.org/pandas-docs/stable/user_guide/indexing.html#returning-a-view-versus-a-copy\n",
            "  features_2d['KMeans_Cluster'] = labels\n"
          ]
        },
        {
          "output_type": "display_data",
          "data": {
            "text/plain": [
              "<Figure size 800x600 with 1 Axes>"
            ],
            "image/png": "[encoded data removed]"
          },
          "metadata": {}
        }
      ]
    },
    {
      "cell_type": "markdown",
      "source": [
        "Got the best k value and plotted  the clusters again."
      ],
      "metadata": {
        "id": "1kRVV53gKIVj"
      }
    },
    {
      "cell_type": "code",
      "source": [
        "# Elbow Method: find optimal k\n",
        "inertias = []\n",
        "k_values = range(1, 11)\n",
        "for k in k_values:\n",
        "    kmeans = KMeans(n_clusters=k, random_state=42)\n",
        "    kmeans.fit(scaled_features)\n",
        "    inertias.append(kmeans.inertia_)\n",
        "\n",
        "# Plot inertia vs k\n",
        "plt.figure(figsize=(8, 5))\n",
        "plt.plot(k_values, inertias, marker='o')\n",
        "plt.xlabel('Number of Clusters (k)')\n",
        "plt.ylabel('Inertia')\n",
        "plt.title('Elbow Method for Optimal k')\n",
        "plt.grid(True)\n",
        "plt.tight_layout()\n",
        "plt.show()\n",
        "# Looking at the elbow point my best k is 4"
      ],
      "metadata": {
        "colab": {
          "base_uri": "https://localhost:8080/",
          "height": 507
        },
        "id": "yy4m7__xKn0m",
        "outputId": "36928c91-c1d9-4ed5-9d77-d69442dfd402"
      },
      "execution_count": null,
      "outputs": [
        {
          "output_type": "display_data",
          "data": {
            "text/plain": [
              "<Figure size 800x500 with 1 Axes>"
            ],
            "image/png": "[encoded data removed]"
          },
          "metadata": {}
        }
      ]
    },
    {
      "cell_type": "markdown",
      "source": [
        "Elbow Method suggests the best number of clusters is 3.\n",
        "\n",
        "Cluster 0: Low purchases, low credit limit — likely low-value or new customers.\n",
        "\n",
        "Cluster 1: High purchases, high credit limit — high-value, premium customers.\n",
        "\n",
        "Cluster 2: Moderate purchases and credit — average or stable users.\n",
        "\n",
        "Each group can be targeted with different marketing strategies based on spending and credit profiles."
      ],
      "metadata": {
        "id": "Kx0vXsC2MDtB"
      }
    },
    {
      "cell_type": "code",
      "source": [],
      "metadata": {
        "id": "v6Vna7xHMmgZ"
      },
      "execution_count": null,
      "outputs": []
    }
  ]
}